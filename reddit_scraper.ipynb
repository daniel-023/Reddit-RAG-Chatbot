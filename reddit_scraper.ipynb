{
 "cells": [
  {
   "cell_type": "markdown",
   "metadata": {},
   "source": [
    "# r/NTU Subreddit Scraper\n",
    "Building the original dataset "
   ]
  },
  {
   "cell_type": "code",
   "execution_count": 1,
   "metadata": {},
   "outputs": [],
   "source": [
    "import pandas as pd\n",
    "import praw\n",
    "import os\n",
    "from datetime import datetime, timezone\n",
    "from dotenv import load_dotenv"
   ]
  },
  {
   "cell_type": "markdown",
   "metadata": {},
   "source": [
    "### Loading environment variables"
   ]
  },
  {
   "cell_type": "code",
   "execution_count": 2,
   "metadata": {},
   "outputs": [],
   "source": [
    "load_dotenv()\n",
    "reddit = praw.Reddit(client_id = os.getenv('REDDIT_CLIENT_ID'),\n",
    "                               client_secret = os.getenv('REDDIT_CLIENT_SECRET'),\n",
    "                               user_agent = os.getenv('REDDIT_USER_AGENT'))"
   ]
  },
  {
   "cell_type": "markdown",
   "metadata": {},
   "source": [
    "### Accessing subreddit"
   ]
  },
  {
   "cell_type": "code",
   "execution_count": 3,
   "metadata": {},
   "outputs": [
    {
     "name": "stdout",
     "output_type": "stream",
     "text": [
      "Display Name: NTU\n",
      "Title: Nanyang Technological University Singapore\n",
      "Description: **Nanyang Technological University, Singapore** \n",
      "\n",
      "The official subreddit for **NTU**\n",
      "\n",
      "* Student? \n",
      "* Professor?\n",
      "* Procrastinating PhD?\n",
      "* RA?\n",
      "* Camp Sec?\n",
      "* Cleaning Auntie? \n",
      "\n",
      "Everyone is welcome here!\n",
      "___________________________________\n",
      "\n",
      "**Related Subreddits:**\n",
      "\n",
      "[/r/Singapore](http://www.reddit.com/r/singapore/)\n",
      "[/r/NUS](http://www.reddit.com/r/NUS)\n",
      "\n"
     ]
    }
   ],
   "source": [
    "subreddit = reddit.subreddit(\"NTU\")\n",
    " \n",
    "# Display the name of the Subreddit\n",
    "print(\"Display Name:\", subreddit.display_name)\n",
    " \n",
    "# Display the title of the Subreddit\n",
    "print(\"Title:\", subreddit.title)\n",
    " \n",
    "# Display the description of the Subreddit\n",
    "print(\"Description:\", subreddit.description)"
   ]
  },
  {
   "cell_type": "markdown",
   "metadata": {},
   "source": [
    "### Scraping posts by year and month"
   ]
  },
  {
   "cell_type": "code",
   "execution_count": 4,
   "metadata": {},
   "outputs": [],
   "source": [
    "def scrape_reddit_posts(subreddit, start_date, end_date):\n",
    "    posts = subreddit.top(time_filter=\"all\", limit=1000)\n",
    "    data = []\n",
    "\n",
    "    for post in posts:\n",
    "        post_datetime = datetime.fromtimestamp(post.created_utc, tz=timezone.utc)\n",
    "        if start_date <= post_datetime <= end_date:\n",
    "            data.append({\n",
    "                'Type': 'Post',\n",
    "                'Post_id': post.id,\n",
    "                'Title': post.title,\n",
    "                'Author': post.author.name if post.author else 'Unknown',\n",
    "                'Timestamp': post_datetime,\n",
    "                'Text': post.selftext,\n",
    "                'Score': post.score,\n",
    "                'Total_comments': post.num_comments,\n",
    "                'Post_URL': post.url\n",
    "            })\n",
    "\n",
    "            if post.num_comments > 0:\n",
    "                post.comments.replace_more(limit=None)\n",
    "                for comment in post.comments.list():\n",
    "                    data.append({\n",
    "                        'Type': 'Comment',\n",
    "                        'Post_id': post.id,\n",
    "                        'Title': post.title,\n",
    "                        'Author': comment.author.name if comment.author else 'Unknown',\n",
    "                        'Timestamp': pd.to_datetime(comment.created_utc, unit='s'),\n",
    "                        'Text': comment.body,\n",
    "                        'Score': comment.score,\n",
    "                        'Total_comments': 0, #Comments don't have this attribute\n",
    "                        'Post_URL': None  #Comments don't have this attribute\n",
    "                    })\n",
    "    return pd.DataFrame(data)\n",
    "    "
   ]
  },
  {
   "cell_type": "markdown",
   "metadata": {},
   "source": [
    "### Building combined dataframe"
   ]
  },
  {
   "cell_type": "code",
   "execution_count": 6,
   "metadata": {},
   "outputs": [],
   "source": [
    "months = [\n",
    "    ('2023-09-01', '2023-09-30'),\n",
    "    ('2023-10-01', '2023-10-31'),\n",
    "    ('2023-11-01', '2023-11-30'),\n",
    "    ('2023-12-01', '2023-12-31'),\n",
    "    ('2024-01-01', '2024-01-31'),\n",
    "    ('2024-02-01', '2024-02-28'),\n",
    "    ('2024-03-01', '2024-03-31'),\n",
    "    ('2024-04-01', '2024-04-30'),\n",
    "    ('2024-05-01', '2024-05-31'),\n",
    "    ('2024-06-01', '2024-06-30'),\n",
    "    ('2024-07-01', '2024-07-31'),\n",
    "    ('2024-08-01', '2024-08-31')\n",
    "]\n",
    "\n",
    "# Scrape data for each month and combine into a single dataframe\n",
    "dataframes = []\n",
    "for start_str, end_str in months:\n",
    "    start_date = datetime.strptime(start_str, '%Y-%m-%d').replace(tzinfo=timezone.utc)\n",
    "    # Adjust the end date to the last second of the last day of the month\n",
    "    end_date = datetime.strptime(end_str, '%Y-%m-%d').replace(tzinfo=timezone.utc).replace(hour=23, minute=59, second=59)\n",
    "    \n",
    "    df = scrape_reddit_posts(subreddit, start_date, end_date)\n",
    "    dataframes.append(df)\n",
    "\n",
    "# Concatenate all dataframes\n",
    "yearly_data = pd.concat(dataframes)"
   ]
  },
  {
   "cell_type": "code",
   "execution_count": 7,
   "metadata": {},
   "outputs": [
    {
     "name": "stdout",
     "output_type": "stream",
     "text": [
      "    Year  Month  Post_Count\n",
      "0   2023      9        1811\n",
      "1   2023     10        1391\n",
      "2   2023     11        1774\n",
      "3   2023     12         382\n",
      "4   2024      1        1022\n",
      "5   2024      2        1403\n",
      "6   2024      3        1522\n",
      "7   2024      4        1073\n",
      "8   2024      5         662\n",
      "9   2024      6         832\n",
      "10  2024      7         298\n",
      "11  2024      8        1568\n",
      "12  2024      9          18\n"
     ]
    }
   ],
   "source": [
    "yearly_data['Timestamp'] = pd.to_datetime(yearly_data['Timestamp'], utc=True)\n",
    "\n",
    "# Create new columns for year and month\n",
    "yearly_data['Year'] = yearly_data['Timestamp'].dt.year\n",
    "yearly_data['Month'] = yearly_data['Timestamp'].dt.month\n",
    "\n",
    "# Group by Year and Month and count the number of posts in each month\n",
    "monthly_counts = yearly_data.groupby(['Year', 'Month']).size().reset_index(name='Post_Count')\n",
    "\n",
    "# Display the result\n",
    "print(monthly_counts)"
   ]
  },
  {
   "cell_type": "code",
   "execution_count": 9,
   "metadata": {},
   "outputs": [
    {
     "name": "stdout",
     "output_type": "stream",
     "text": [
      "<class 'pandas.core.frame.DataFrame'>\n",
      "Index: 13756 entries, 0 to 1571\n",
      "Data columns (total 11 columns):\n",
      " #   Column          Non-Null Count  Dtype              \n",
      "---  ------          --------------  -----              \n",
      " 0   Type            13756 non-null  object             \n",
      " 1   Post_id         13756 non-null  object             \n",
      " 2   Title           13756 non-null  object             \n",
      " 3   Author          13756 non-null  object             \n",
      " 4   Timestamp       13756 non-null  datetime64[ns, UTC]\n",
      " 5   Text            13756 non-null  object             \n",
      " 6   Score           13756 non-null  int64              \n",
      " 7   Total_comments  13756 non-null  int64              \n",
      " 8   Post_URL        470 non-null    object             \n",
      " 9   Year            13756 non-null  int32              \n",
      " 10  Month           13756 non-null  int32              \n",
      "dtypes: datetime64[ns, UTC](1), int32(2), int64(2), object(6)\n",
      "memory usage: 1.2+ MB\n"
     ]
    }
   ],
   "source": [
    "yearly_data.info()"
   ]
  },
  {
   "cell_type": "code",
   "execution_count": 11,
   "metadata": {},
   "outputs": [],
   "source": [
    "yearly_data.to_csv('data/reddit_data.csv')"
   ]
  }
 ],
 "metadata": {
  "kernelspec": {
   "display_name": ".venv",
   "language": "python",
   "name": "python3"
  },
  "language_info": {
   "codemirror_mode": {
    "name": "ipython",
    "version": 3
   },
   "file_extension": ".py",
   "mimetype": "text/x-python",
   "name": "python",
   "nbconvert_exporter": "python",
   "pygments_lexer": "ipython3",
   "version": "3.10.10"
  }
 },
 "nbformat": 4,
 "nbformat_minor": 2
}
